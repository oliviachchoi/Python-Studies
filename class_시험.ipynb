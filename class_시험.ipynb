{
  "nbformat": 4,
  "nbformat_minor": 0,
  "metadata": {
    "colab": {
      "name": "class 시험.ipynb",
      "provenance": [],
      "authorship_tag": "ABX9TyPUpG34kvmiMa1AOvOP0v7u",
      "include_colab_link": true
    },
    "kernelspec": {
      "name": "python3",
      "display_name": "Python 3"
    },
    "language_info": {
      "name": "python"
    }
  },
  "cells": [
    {
      "cell_type": "markdown",
      "metadata": {
        "id": "view-in-github",
        "colab_type": "text"
      },
      "source": [
        "<a href=\"https://colab.research.google.com/github/oliviachchoi/Python-Studies/blob/master/class_%EC%8B%9C%ED%97%98.ipynb\" target=\"_parent\"><img src=\"https://colab.research.google.com/assets/colab-badge.svg\" alt=\"Open In Colab\"/></a>"
      ]
    },
    {
      "cell_type": "markdown",
      "metadata": {
        "id": "4CbNwGkMJ4g9"
      },
      "source": [
        "<빅데이터 활용 기획>\n",
        "1. (하)class로 작성하시오.\n",
        "주사위 클래스 Dice를 설계하는데 메소드에는 roll()을 구현하여 주사위를 던져 나온 숫자를 화면에 출력하는 프로그램을 작성하시오.\n",
        "2. (극강의 난이도) 배스킨라빈스 31게임.\n",
        "<게임규칙>\n",
        "게임의 참여자들은 차례를 정해 1부터 31까지의 수를 순차적으로 부른다. 한번에 1~3개까지 수를 연달아 부를 수 있으며, 마지막 31을 부른 사람이 진다.\n",
        "- 컴퓨터가 무조건 먼저 시작하고,1P는 무조건 2번째로 말한다.컴퓨터가 무조건 이기게 만들어라.\n",
        "<힌트 1> 4n-2라는 공식을 사용하면 됩니다.\n",
        "<힌트 2>이 게임은 31을 부르면 지는 게임이니 30을 부르면 이깁니다.\n",
        "3. (중) 내용에 맞게 코드를 작성하시오.\n",
        "괄호 문자열(Parenthesis String, PS)은 두 개의 괄호 기호인 ‘(' 와 ‘)' 만으로 구성되어 있는 문자열이다. 그 중에서 괄호의 모양이 바르게 구성된 문자열을 올바른 괄호 문자열(Valid PS, VPS)이라고 부른다. 한 쌍의 괄호 기호로 된 “( )” 문자열은 기본 VPS 이라고 부른다. 만일 x 가 VPS 라면 이것을 하나의 괄호에 넣은 새로운 문자열 “(x)”도 VPS 가 된다. 그리고 두 VPS x 와 y를 접합(concatenation)시킨 새로운 문자열 xy도 VPS 가 된다. 예를 들어 “(())()”와 “((()))” 는 VPS 이지만 “(()(”, “(())()))” , 그리고 “(()” 는 모두 VPS 가 아닌 문자열이다. \n",
        "여러분은 입력으로 주어진 괄호 문자열이 VPS 인지 아닌지를 판단해서 그 결과를 YES 와 NO 로 나타내어야 한다.\n",
        "4. [하]사칙연산은 Class로 작성하시오.\n",
        "주의) 내장함수를 사용하면 copy(0점)로 간주.\n",
        "- 생성자도 호출하시오.\n",
        "5.[중] 업다운 게임을 작성하시오\n",
        "소주 병뚜껑에서 1-50까지의 숫자를 말하면 Up또는 Down을 알려주는 코드를 작성하시오.\n",
        "5번안에 맞추지 않으면 Game over도 출력하시오."
      ]
    },
    {
      "cell_type": "code",
      "metadata": {
        "colab": {
          "base_uri": "https://localhost:8080/"
        },
        "id": "bP6ZjQyAJ0Wm",
        "outputId": "fe5a70e3-f135-4bb5-cc2c-7eb4af39f661"
      },
      "source": [
        "#1. \n",
        "import numpy as np\n",
        "class Dice:\n",
        "  def __init__(self,n):\n",
        "    self.n=n\n",
        "  def data(self,n):\n",
        "    self.n=n\n",
        "  def roll(self):\n",
        "    result=self.n\n",
        "    return result\n",
        "\n",
        "face=Dice(np.random.randint(1,7))\n",
        "face.roll()"
      ],
      "execution_count": 14,
      "outputs": [
        {
          "output_type": "execute_result",
          "data": {
            "text/plain": [
              "3"
            ]
          },
          "metadata": {
            "tags": []
          },
          "execution_count": 14
        }
      ]
    },
    {
      "cell_type": "code",
      "metadata": {
        "colab": {
          "base_uri": "https://localhost:8080/"
        },
        "id": "jvmuLeJRN31n",
        "outputId": "2beb05c4-94df-4f3d-89cc-b7ccb81ed0e9"
      },
      "source": [
        "#4. 사칙연산은 class로 작성해보시오.\n",
        "class arithmetic:\n",
        "  def __init__(self, num1, num2):\n",
        "    self.num1= num1\n",
        "    self.num2= num2\n",
        "\n",
        "  def add(self):\n",
        "    print(f'{self.num1+ self.num2}')\n",
        "  def sub(self):\n",
        "    print(f'{self.num1-self.num2}')\n",
        "  def mul(self):\n",
        "    print(f'{self.num1*self.num2}')\n",
        "  def div(self):\n",
        "    print(f'{self.num1/self.num2}')\n",
        "z= arithmetic(3,5)\n",
        "a= arithmetic(5,6)\n",
        "\n",
        "z.add()\n",
        "z.sub()\n",
        "z.mul()\n",
        "z.div()"
      ],
      "execution_count": 37,
      "outputs": [
        {
          "output_type": "stream",
          "text": [
            "8\n",
            "-2\n",
            "15\n",
            "0.6\n"
          ],
          "name": "stdout"
        }
      ]
    },
    {
      "cell_type": "code",
      "metadata": {
        "colab": {
          "base_uri": "https://localhost:8080/"
        },
        "id": "b6qaK-F6WTJV",
        "outputId": "7b5b10ad-49ee-477f-d753-16fcc89e7779"
      },
      "source": [
        "#5.[중] 업다운 게임을 작성하시오 소주 병뚜껑에서 1-50까지의 숫자를 말하면 Up또는 Down을 알려주는 코드를 작성하시오. 5번안에 맞추지 않으면 Game over도 출력하시오.\n",
        "\n",
        "k=0\n",
        "n=np.random.randint(1,51)\n",
        "print('The Random Number is:' , n)\n",
        "\n",
        "while k<5:\n",
        "  a= int(input('Your Lucky Number : '))\n",
        "  if a<n:\n",
        "    print('Up')\n",
        "    k+=1\n",
        "    continue\n",
        "  elif a>n:\n",
        "    print('Down')\n",
        "    k+=1\n",
        "    continue\n",
        "  elif a==n:\n",
        "    print('Your Guess was correct. One Shot for you!')\n",
        "    break\n",
        "if k==5:\n",
        "  print('Game Over')\n",
        "  "
      ],
      "execution_count": 79,
      "outputs": [
        {
          "output_type": "stream",
          "text": [
            "The Random Number is: 8\n",
            "Your Lucky Number : 8\n",
            "Your Guess was correct. One Shot for you!\n"
          ],
          "name": "stdout"
        }
      ]
    }
  ]
}