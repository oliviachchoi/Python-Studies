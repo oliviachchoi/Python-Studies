{
  "nbformat": 4,
  "nbformat_minor": 0,
  "metadata": {
    "colab": {
      "name": "연습문제 모음.ipynb",
      "provenance": [],
      "collapsed_sections": [],
      "authorship_tag": "ABX9TyPetoqPV6aDvUKN5HbiiVYo",
      "include_colab_link": true
    },
    "kernelspec": {
      "name": "python3",
      "display_name": "Python 3"
    },
    "language_info": {
      "name": "python"
    }
  },
  "cells": [
    {
      "cell_type": "markdown",
      "metadata": {
        "id": "view-in-github",
        "colab_type": "text"
      },
      "source": [
        "<a href=\"https://colab.research.google.com/github/oliviachchoi/Python-Studies/blob/master/%EC%97%B0%EC%8A%B5%EB%AC%B8%EC%A0%9C_%EB%AA%A8%EC%9D%8C.ipynb\" target=\"_parent\"><img src=\"https://colab.research.google.com/assets/colab-badge.svg\" alt=\"Open In Colab\"/></a>"
      ]
    },
    {
      "cell_type": "code",
      "metadata": {
        "id": "X_7O2im2NRbw"
      },
      "source": [
        "#사용자로부터 점수를 3개 입력받아 모든 점수가 65점보다 클 경우 true 아닐 경우 false를 출력하라"
      ],
      "execution_count": null,
      "outputs": []
    },
    {
      "cell_type": "code",
      "metadata": {
        "colab": {
          "base_uri": "https://localhost:8080/"
        },
        "id": "qzvXHjCWXuJi",
        "outputId": "c816fef0-07a8-4917-ac51-427e2f0eb070"
      },
      "source": [
        "#1. 국어, 영어, 수학 점수가 키로하는 딕셔너리를 만들어보자. 각가의 점수는 다음과 같다.\n",
        "dict_1= {'국어':87,'영어':88,'수학':92}\n",
        "dict_1\n",
        "type(dict_1)\n",
        "dict_1.keys()\n",
        "dict_1.values()\n",
        "dict_1.items()"
      ],
      "execution_count": null,
      "outputs": [
        {
          "output_type": "execute_result",
          "data": {
            "text/plain": [
              "dict_items([('국어', 87), ('영어', 88), ('수학', 92)])"
            ]
          },
          "metadata": {
            "tags": []
          },
          "execution_count": 23
        }
      ]
    },
    {
      "cell_type": "code",
      "metadata": {
        "id": "YwOtziLiYPBR"
      },
      "source": [
        "#2. 다음 연산들의 값을 예측 해 보자.\n",
        "3<=1 #false\n",
        "6%3==0 #true\n",
        "s1%s2=='b' #false\n",
        "s1%s2=={'b'} #true\n"
      ],
      "execution_count": null,
      "outputs": []
    },
    {
      "cell_type": "code",
      "metadata": {
        "colab": {
          "base_uri": "https://localhost:8080/"
        },
        "id": "yo00qtMEZC7g",
        "outputId": "33b44199-fef3-4afa-ac47-973ee28d73c3"
      },
      "source": [
        "#연습문제4\n",
        "a=\"20190505chicken19000\"\n",
        "year = a[0:4]\n",
        "month=a[4:6]\n",
        "day=a[6:8]\n",
        "menu=a[8:15]\n",
        "money=a[15:]\n",
        "print('year:',year,'month:',month,'day:', day,\"menu :\", menu,\"money :\", money)\n",
        "\n"
      ],
      "execution_count": null,
      "outputs": [
        {
          "output_type": "stream",
          "text": [
            "year: 2019 month: 05 day: 05 menu : chicken money : 19000\n"
          ],
          "name": "stdout"
        }
      ]
    },
    {
      "cell_type": "code",
      "metadata": {
        "colab": {
          "base_uri": "https://localhost:8080/"
        },
        "id": "cpt1nF8YRQ_z",
        "outputId": "cc2859f8-611c-46ac-c859-3122d5cdce95"
      },
      "source": [
        "#b로 a를 나눈 나머지가 3 초과면 실패, 3이면 무승부, 3 미만이면 성공이 출력되도록 만들어 보자.\n",
        "\n",
        "a=34\n",
        "b=4\n",
        "\n",
        "if a%b>3:\n",
        "  print('실패')\n",
        "elif a%b==3:\n",
        "  print('무승부')\n",
        "else:\n",
        "  print('성공')\n"
      ],
      "execution_count": null,
      "outputs": [
        {
          "output_type": "stream",
          "text": [
            "성공\n"
          ],
          "name": "stdout"
        }
      ]
    },
    {
      "cell_type": "code",
      "metadata": {
        "colab": {
          "base_uri": "https://localhost:8080/"
        },
        "id": "AInni-F_RRJL",
        "outputId": "3c82157b-ae85-499c-abd1-eadc4a03c324"
      },
      "source": [
        "#2. 사용자로부터 점수를 3개 입력받아 모든 점수가 65점보다 클 경우 합격, 아닐경우 불합격을 출력하세요.\n",
        "#단 0~100 이 아닌 숫자가 입력 된 경우 잘못된 점수가 입력되었습니다를 출력하세요.\n",
        "\n",
        "a= int(input('점수는:'))\n",
        "b= int(input('점수는:'))\n",
        "c= int(input('점수는:'))\n",
        "\n",
        "if 0<=a<=65 and 0<=b<=65 and 0<=c<=65:\n",
        "  print('불합격')\n",
        "elif a>65 and b>65 and c>65:\n",
        "  print('합격')\n",
        "else:\n",
        "  print('잘못된 점수가 입력되었습니다')\n"
      ],
      "execution_count": null,
      "outputs": [
        {
          "output_type": "stream",
          "text": [
            "점수는:33\n",
            "점수는:-1\n",
            "점수는:4\n",
            "잘못된 점수가 입력되었습니다\n"
          ],
          "name": "stdout"
        }
      ]
    },
    {
      "cell_type": "code",
      "metadata": {
        "colab": {
          "base_uri": "https://localhost:8080/"
        },
        "id": "txZ_5Xh4Slep",
        "outputId": "db04ee4b-797a-4c43-ef05-a6ff0bdf9e72"
      },
      "source": [
        "#홀수, 짝수 판별기\n",
        "#사용자로부터 정수를 하나 입력받아 입력한 정수가 홀수인지 짝수인지 판별하여라.\n",
        "\n",
        "a= int(input('정수를 입력해주세요:'))\n",
        "if a>0:\n",
        "  if a%2==0:\n",
        "    print('입력하신 %d는 짝수입니다'%a)\n",
        "  else:\n",
        "    print('입력하신 %d는 홀수입니다'%a)\n",
        "else: \n",
        "  print('음의 정수입니다')    \n"
      ],
      "execution_count": null,
      "outputs": [
        {
          "output_type": "stream",
          "text": [
            "정수를 입력해주세요:5\n",
            "입력하신 5는 홀수입니다\n"
          ],
          "name": "stdout"
        }
      ]
    },
    {
      "cell_type": "code",
      "metadata": {
        "colab": {
          "base_uri": "https://localhost:8080/"
        },
        "id": "21u7FhWRTKSU",
        "outputId": "35fa996d-a683-4835-fe42-008621ce5a4d"
      },
      "source": [
        "#양의 정수 하나를 입력받아 이 정수가 2의 배수인지 3의 배수인지 작성하시오\n",
        "a = int(input('숫자는:'))\n",
        "\n",
        "if a>0:\n",
        "  if a%2==0 and a%3==0:\n",
        "    print('공통인자입니다')\n",
        "  elif a%2==0:\n",
        "    print('2의 배수입니다')\n",
        "  elif a%3==0:\n",
        "    print('3의 배수입니다')\n",
        "  else:\n",
        "    print('해당하지 않습니다')\n",
        "else: \n",
        "  print('음수입니다')"
      ],
      "execution_count": null,
      "outputs": [
        {
          "output_type": "stream",
          "text": [
            "숫자는:-40\n",
            "음수입니다\n"
          ],
          "name": "stdout"
        }
      ]
    },
    {
      "cell_type": "code",
      "metadata": {
        "colab": {
          "base_uri": "https://localhost:8080/"
        },
        "id": "v91wu703Zp3I",
        "outputId": "a7f1f262-09fb-442a-bef5-9cacef1c931f"
      },
      "source": [
        "#구구단 작성 --이중 for 문\n",
        "for i in range(1,10):\n",
        "  print('%d 단---'%i)\n",
        "  for j in range(1,10):\n",
        "    print('%d * %d = %d'%(i,j,i*j))\n"
      ],
      "execution_count": null,
      "outputs": [
        {
          "output_type": "stream",
          "text": [
            "1 단---\n",
            "1 * 1 = 1\n",
            "1 * 2 = 2\n",
            "1 * 3 = 3\n",
            "1 * 4 = 4\n",
            "1 * 5 = 5\n",
            "1 * 6 = 6\n",
            "1 * 7 = 7\n",
            "1 * 8 = 8\n",
            "1 * 9 = 9\n",
            "2 단---\n",
            "2 * 1 = 2\n",
            "2 * 2 = 4\n",
            "2 * 3 = 6\n",
            "2 * 4 = 8\n",
            "2 * 5 = 10\n",
            "2 * 6 = 12\n",
            "2 * 7 = 14\n",
            "2 * 8 = 16\n",
            "2 * 9 = 18\n",
            "3 단---\n",
            "3 * 1 = 3\n",
            "3 * 2 = 6\n",
            "3 * 3 = 9\n",
            "3 * 4 = 12\n",
            "3 * 5 = 15\n",
            "3 * 6 = 18\n",
            "3 * 7 = 21\n",
            "3 * 8 = 24\n",
            "3 * 9 = 27\n",
            "4 단---\n",
            "4 * 1 = 4\n",
            "4 * 2 = 8\n",
            "4 * 3 = 12\n",
            "4 * 4 = 16\n",
            "4 * 5 = 20\n",
            "4 * 6 = 24\n",
            "4 * 7 = 28\n",
            "4 * 8 = 32\n",
            "4 * 9 = 36\n",
            "5 단---\n",
            "5 * 1 = 5\n",
            "5 * 2 = 10\n",
            "5 * 3 = 15\n",
            "5 * 4 = 20\n",
            "5 * 5 = 25\n",
            "5 * 6 = 30\n",
            "5 * 7 = 35\n",
            "5 * 8 = 40\n",
            "5 * 9 = 45\n",
            "6 단---\n",
            "6 * 1 = 6\n",
            "6 * 2 = 12\n",
            "6 * 3 = 18\n",
            "6 * 4 = 24\n",
            "6 * 5 = 30\n",
            "6 * 6 = 36\n",
            "6 * 7 = 42\n",
            "6 * 8 = 48\n",
            "6 * 9 = 54\n",
            "7 단---\n",
            "7 * 1 = 7\n",
            "7 * 2 = 14\n",
            "7 * 3 = 21\n",
            "7 * 4 = 28\n",
            "7 * 5 = 35\n",
            "7 * 6 = 42\n",
            "7 * 7 = 49\n",
            "7 * 8 = 56\n",
            "7 * 9 = 63\n",
            "8 단---\n",
            "8 * 1 = 8\n",
            "8 * 2 = 16\n",
            "8 * 3 = 24\n",
            "8 * 4 = 32\n",
            "8 * 5 = 40\n",
            "8 * 6 = 48\n",
            "8 * 7 = 56\n",
            "8 * 8 = 64\n",
            "8 * 9 = 72\n",
            "9 단---\n",
            "9 * 1 = 9\n",
            "9 * 2 = 18\n",
            "9 * 3 = 27\n",
            "9 * 4 = 36\n",
            "9 * 5 = 45\n",
            "9 * 6 = 54\n",
            "9 * 7 = 63\n",
            "9 * 8 = 72\n",
            "9 * 9 = 81\n"
          ],
          "name": "stdout"
        }
      ]
    },
    {
      "cell_type": "code",
      "metadata": {
        "colab": {
          "base_uri": "https://localhost:8080/"
        },
        "id": "k0-fwVxXaAtY",
        "outputId": "a86bbe50-af36-4e25-9378-b39124fb2299"
      },
      "source": [
        "sum=0\n",
        "for i in range(1,11):\n",
        "  sum= i+sum\n",
        "print(sum)\n",
        "\n",
        "\n",
        "for i in range(1,11):\n",
        "  sum=0\n",
        "  sum= i+sum\n",
        "print(sum)\n",
        "#sum을 for문 안에 써버리면 계속 sum이 0으로 초기화 되기 때문에 \n",
        "#누적 합을 구하려면 sum을 맨 위에 보내줘야함"
      ],
      "execution_count": null,
      "outputs": [
        {
          "output_type": "stream",
          "text": [
            "10\n"
          ],
          "name": "stdout"
        }
      ]
    },
    {
      "cell_type": "code",
      "metadata": {
        "colab": {
          "base_uri": "https://localhost:8080/"
        },
        "id": "109DpPdsaMvx",
        "outputId": "e6745792-9476-4614-8f02-9cae7a7b9d2d"
      },
      "source": [
        "#연습문제 1.사용자로부터 정수를 입력받아, 해당 정수만큼 안녕을 출력하세요.\n",
        "a= int(input())\n",
        "for i in range(a):\n",
        "  print('안녕')"
      ],
      "execution_count": null,
      "outputs": [
        {
          "output_type": "stream",
          "text": [
            "3\n",
            "안녕\n",
            "안녕\n",
            "안녕\n"
          ],
          "name": "stdout"
        }
      ]
    },
    {
      "cell_type": "code",
      "metadata": {
        "colab": {
          "base_uri": "https://localhost:8080/"
        },
        "id": "MEKwBPM6bpdS",
        "outputId": "268c7f34-25d4-4daa-e538-a17fb81cbadb"
      },
      "source": [
        "#2. 사용자로부터 정수를 입력받아 입력된 정수 만큼 별 찍기\n",
        "a = int(input())\n",
        "for i in range(a):\n",
        "  print((i+1)*'*')"
      ],
      "execution_count": null,
      "outputs": [
        {
          "output_type": "stream",
          "text": [
            "3\n",
            "*\n",
            "**\n",
            "***\n"
          ],
          "name": "stdout"
        }
      ]
    },
    {
      "cell_type": "code",
      "metadata": {
        "colab": {
          "base_uri": "https://localhost:8080/"
        },
        "id": "0cHUPAlJcLeb",
        "outputId": "2fb0dd19-f432-4f5d-d789-aa0b17f7f307"
      },
      "source": [
        "#3.사용자로부터 정수를 입력받아 입력된 정수만큼 별 찍기 역순\n",
        "a = int(input())\n",
        "for i in range(a,0,-1):\n",
        "  print((i)*'*')"
      ],
      "execution_count": null,
      "outputs": [
        {
          "output_type": "stream",
          "text": [
            "4\n",
            "****\n",
            "***\n",
            "**\n",
            "*\n"
          ],
          "name": "stdout"
        }
      ]
    },
    {
      "cell_type": "code",
      "metadata": {
        "colab": {
          "base_uri": "https://localhost:8080/"
        },
        "id": "LojqzvMqcY64",
        "outputId": "1b683a6d-2e36-4df0-f151-08246540a639"
      },
      "source": [
        "#3. \n",
        "x=[3,6,9,20,-7,5]\n",
        "for i in range(len(x)):\n",
        "  x[i]=x[i]*10\n",
        "\n",
        "print(x)"
      ],
      "execution_count": null,
      "outputs": [
        {
          "output_type": "stream",
          "text": [
            "[30, 60, 90, 200, -70, 50]\n"
          ],
          "name": "stdout"
        }
      ]
    },
    {
      "cell_type": "code",
      "metadata": {
        "colab": {
          "base_uri": "https://localhost:8080/"
        },
        "id": "mb4Z_BmucifG",
        "outputId": "fade80d0-a8ab-48d5-abc8-0c61fbcb4faa"
      },
      "source": [
        "for i in x:\n",
        "  print(10*i)"
      ],
      "execution_count": null,
      "outputs": [
        {
          "output_type": "stream",
          "text": [
            "30\n",
            "60\n",
            "90\n",
            "200\n",
            "-70\n",
            "50\n"
          ],
          "name": "stdout"
        }
      ]
    },
    {
      "cell_type": "code",
      "metadata": {
        "colab": {
          "base_uri": "https://localhost:8080/"
        },
        "id": "__QDSp-hc-p6",
        "outputId": "f5111277-b3c6-40d1-b503-c9ff3be68029"
      },
      "source": [
        "#2. \n",
        "y={'math':70,'science':80, \"english\":20}\n",
        "#dict -> key로 접근을 해야만 value가 따라옴\n",
        "for i in y :\n",
        "  val = y[i]\n",
        "  y[i]=y[i]+10\n",
        "  print('%s : %d'%(i,y[i]))\n",
        "\n",
        "#i는 val에 접근\n",
        "#keys에는 어떻게 접근하는지 연구해보기\n"
      ],
      "execution_count": null,
      "outputs": [
        {
          "output_type": "stream",
          "text": [
            "math : 80\n",
            "science : 90\n",
            "english : 30\n"
          ],
          "name": "stdout"
        }
      ]
    },
    {
      "cell_type": "code",
      "metadata": {
        "colab": {
          "base_uri": "https://localhost:8080/"
        },
        "id": "sJxuAIsNjwna",
        "outputId": "03dd6492-f38b-48a3-b1f2-5024ce5383fc"
      },
      "source": [
        "y={'math':70,'science':80, \"english\":20}\n",
        "#dict -> key로 접근을 해야만 value가 따라옴\n",
        "for i in y :\n",
        "  val = y[i]\n",
        "  val=y[i]+10\n",
        "  print('%s : %d'%(i,val))"
      ],
      "execution_count": null,
      "outputs": [
        {
          "output_type": "stream",
          "text": [
            "math : 80\n",
            "science : 90\n",
            "english : 30\n"
          ],
          "name": "stdout"
        }
      ]
    },
    {
      "cell_type": "code",
      "metadata": {
        "colab": {
          "base_uri": "https://localhost:8080/"
        },
        "id": "3Vc55ulzf8bR",
        "outputId": "15c9fa0d-45dc-42ba-d1b2-6b6a6b2f18c3"
      },
      "source": [
        "#3.\n",
        "a = int(input('정수를 입력해주세요'))\n",
        "for i in range(1,10):\n",
        "  print('%d * %d= %d'%(a,i,a*i))"
      ],
      "execution_count": null,
      "outputs": [
        {
          "output_type": "stream",
          "text": [
            "정수를 입력해주세요5\n",
            "5 * 1= 5\n",
            "5 * 2= 10\n",
            "5 * 3= 15\n",
            "5 * 4= 20\n",
            "5 * 5= 25\n",
            "5 * 6= 30\n",
            "5 * 7= 35\n",
            "5 * 8= 40\n",
            "5 * 9= 45\n"
          ],
          "name": "stdout"
        }
      ]
    },
    {
      "cell_type": "code",
      "metadata": {
        "colab": {
          "base_uri": "https://localhost:8080/"
        },
        "id": "_zPrjCyefJdb",
        "outputId": "ffa564e1-8c8a-4a68-8ad4-ad3fadadf4e2"
      },
      "source": [
        "#4.\n",
        "word=['school','game','piano','science','hotel','mountain']\n",
        "a=[]\n",
        "for i in range(len(word)):\n",
        "  if len(word[i])>=6:\n",
        "    a.append(word[i])\n",
        "  else:\n",
        "    pass\n",
        "print(a)"
      ],
      "execution_count": null,
      "outputs": [
        {
          "output_type": "stream",
          "text": [
            "['school', 'science', 'mountain']\n"
          ],
          "name": "stdout"
        }
      ]
    },
    {
      "cell_type": "code",
      "metadata": {
        "colab": {
          "base_uri": "https://localhost:8080/"
        },
        "id": "QqzgT2pYgmtU",
        "outputId": "dbc65c72-8592-4888-bd04-e4d62d761c04"
      },
      "source": [
        "#4-2 구구단 1~9단\n",
        "for i in range(1,10):\n",
        "  print('------%d단 ----'%i)\n",
        "  for j in range(1,10):\n",
        "    print('%d*%d=%d'%(i,j,i*j))"
      ],
      "execution_count": null,
      "outputs": [
        {
          "output_type": "stream",
          "text": [
            "------1단 ----\n",
            "1*1=1\n",
            "1*2=2\n",
            "1*3=3\n",
            "1*4=4\n",
            "1*5=5\n",
            "1*6=6\n",
            "1*7=7\n",
            "1*8=8\n",
            "1*9=9\n",
            "------2단 ----\n",
            "2*1=2\n",
            "2*2=4\n",
            "2*3=6\n",
            "2*4=8\n",
            "2*5=10\n",
            "2*6=12\n",
            "2*7=14\n",
            "2*8=16\n",
            "2*9=18\n",
            "------3단 ----\n",
            "3*1=3\n",
            "3*2=6\n",
            "3*3=9\n",
            "3*4=12\n",
            "3*5=15\n",
            "3*6=18\n",
            "3*7=21\n",
            "3*8=24\n",
            "3*9=27\n",
            "------4단 ----\n",
            "4*1=4\n",
            "4*2=8\n",
            "4*3=12\n",
            "4*4=16\n",
            "4*5=20\n",
            "4*6=24\n",
            "4*7=28\n",
            "4*8=32\n",
            "4*9=36\n",
            "------5단 ----\n",
            "5*1=5\n",
            "5*2=10\n",
            "5*3=15\n",
            "5*4=20\n",
            "5*5=25\n",
            "5*6=30\n",
            "5*7=35\n",
            "5*8=40\n",
            "5*9=45\n",
            "------6단 ----\n",
            "6*1=6\n",
            "6*2=12\n",
            "6*3=18\n",
            "6*4=24\n",
            "6*5=30\n",
            "6*6=36\n",
            "6*7=42\n",
            "6*8=48\n",
            "6*9=54\n",
            "------7단 ----\n",
            "7*1=7\n",
            "7*2=14\n",
            "7*3=21\n",
            "7*4=28\n",
            "7*5=35\n",
            "7*6=42\n",
            "7*7=49\n",
            "7*8=56\n",
            "7*9=63\n",
            "------8단 ----\n",
            "8*1=8\n",
            "8*2=16\n",
            "8*3=24\n",
            "8*4=32\n",
            "8*5=40\n",
            "8*6=48\n",
            "8*7=56\n",
            "8*8=64\n",
            "8*9=72\n",
            "------9단 ----\n",
            "9*1=9\n",
            "9*2=18\n",
            "9*3=27\n",
            "9*4=36\n",
            "9*5=45\n",
            "9*6=54\n",
            "9*7=63\n",
            "9*8=72\n",
            "9*9=81\n"
          ],
          "name": "stdout"
        }
      ]
    },
    {
      "cell_type": "code",
      "metadata": {
        "colab": {
          "base_uri": "https://localhost:8080/"
        },
        "id": "cIlfzeIRg7lv",
        "outputId": "aae6f88b-c5b7-4b7f-c00e-b0ed287c9e68"
      },
      "source": [
        "#5.\n",
        "for i in range(1,101):\n",
        "  if i>0:\n",
        "    if i%3==0 and i%5==0:\n",
        "      print('3과 5의 공배수')\n",
        "    elif i%3==0:\n",
        "      print('3의 배수')\n",
        "    elif i%5==0:\n",
        "      print('5의 배수')\n",
        "    else:\n",
        "      print(i)\n",
        "  else:\n",
        "    print('음수는 정의하지 않음')"
      ],
      "execution_count": null,
      "outputs": [
        {
          "output_type": "stream",
          "text": [
            "1\n",
            "2\n",
            "3의 배수\n",
            "4\n",
            "5의 배수\n",
            "3의 배수\n",
            "7\n",
            "8\n",
            "3의 배수\n",
            "5의 배수\n",
            "11\n",
            "3의 배수\n",
            "13\n",
            "14\n",
            "3과 5의 공배수\n",
            "16\n",
            "17\n",
            "3의 배수\n",
            "19\n",
            "5의 배수\n",
            "3의 배수\n",
            "22\n",
            "23\n",
            "3의 배수\n",
            "5의 배수\n",
            "26\n",
            "3의 배수\n",
            "28\n",
            "29\n",
            "3과 5의 공배수\n",
            "31\n",
            "32\n",
            "3의 배수\n",
            "34\n",
            "5의 배수\n",
            "3의 배수\n",
            "37\n",
            "38\n",
            "3의 배수\n",
            "5의 배수\n",
            "41\n",
            "3의 배수\n",
            "43\n",
            "44\n",
            "3과 5의 공배수\n",
            "46\n",
            "47\n",
            "3의 배수\n",
            "49\n",
            "5의 배수\n",
            "3의 배수\n",
            "52\n",
            "53\n",
            "3의 배수\n",
            "5의 배수\n",
            "56\n",
            "3의 배수\n",
            "58\n",
            "59\n",
            "3과 5의 공배수\n",
            "61\n",
            "62\n",
            "3의 배수\n",
            "64\n",
            "5의 배수\n",
            "3의 배수\n",
            "67\n",
            "68\n",
            "3의 배수\n",
            "5의 배수\n",
            "71\n",
            "3의 배수\n",
            "73\n",
            "74\n",
            "3과 5의 공배수\n",
            "76\n",
            "77\n",
            "3의 배수\n",
            "79\n",
            "5의 배수\n",
            "3의 배수\n",
            "82\n",
            "83\n",
            "3의 배수\n",
            "5의 배수\n",
            "86\n",
            "3의 배수\n",
            "88\n",
            "89\n",
            "3과 5의 공배수\n",
            "91\n",
            "92\n",
            "3의 배수\n",
            "94\n",
            "5의 배수\n",
            "3의 배수\n",
            "97\n",
            "98\n",
            "3의 배수\n",
            "5의 배수\n"
          ],
          "name": "stdout"
        }
      ]
    },
    {
      "cell_type": "code",
      "metadata": {
        "colab": {
          "base_uri": "https://localhost:8080/"
        },
        "id": "suwmEqVdhRVd",
        "outputId": "419811fd-b761-489f-b0f8-bad2a03a400e"
      },
      "source": [
        "#6. 사용자로부터 숫자를 계속 입력받다가 s or S를 입력하면 합계 출력\n",
        "a= input('값을 입력 해 주세요')\n",
        "c=0\n",
        "d=1\n",
        "\n",
        "while d==1:\n",
        "  a= input('값을 입력 해 주세요')\n",
        "  if (a=='s' or a=='S'):\n",
        "    d=0 #왜 d==0은 오류나?\n",
        "  else:\n",
        "    a=int(a)\n",
        "    c+=a\n",
        "print(c)\n"
      ],
      "execution_count": null,
      "outputs": [
        {
          "output_type": "stream",
          "text": [
            "값을 입력 해 주세요4\n",
            "값을 입력 해 주세요s\n",
            "0\n"
          ],
          "name": "stdout"
        }
      ]
    },
    {
      "cell_type": "code",
      "metadata": {
        "id": "auvnKrM3k5sy"
      },
      "source": [
        "#7. \n",
        "kor_score=[39,69,20,100,80]\n",
        "math_score=[32,59,85,30,90]\n",
        "eng_score=[49,70,48,60,100]\n",
        "\n",
        "midterm_score=[kor_score,math_score,eng_score]\n",
        "\n",
        "#list(zip(kor_score,math_score,eng_score))로 해도 됨!- 이의광님 풀이 "
      ],
      "execution_count": null,
      "outputs": []
    },
    {
      "cell_type": "code",
      "metadata": {
        "colab": {
          "base_uri": "https://localhost:8080/"
        },
        "id": "_rQLp-s-lIcd",
        "outputId": "072232c1-913a-409e-e139-56c0d12774a7"
      },
      "source": [
        "\n",
        "student_score=[0,0,0,0,0]\n",
        "i=0\n",
        "\n",
        "#빈칸 생성\n",
        "for subject in midterm_score: #kor? math? eng?\n",
        "#kor[0]+math[0]+eng[0]\n",
        "#row\n",
        "  for score in subject:\n",
        "    #한번 더 접근하면 각각 score\n",
        "    student_score[i]+=score\n",
        "    i+=1\n",
        "  i=0\n",
        "else:\n",
        "  a,b,c,d,e=student_score\n",
        "  student_average=[a/3,b/3,c/3,d/3,e/3]\n",
        "\n",
        "\n",
        "student_average"
      ],
      "execution_count": null,
      "outputs": [
        {
          "output_type": "execute_result",
          "data": {
            "text/plain": [
              "[40.0, 66.0, 51.0, 63.333333333333336, 90.0]"
            ]
          },
          "metadata": {
            "tags": []
          },
          "execution_count": 79
        }
      ]
    },
    {
      "cell_type": "code",
      "metadata": {
        "id": "bCugLoAHnOR-"
      },
      "source": [
        "#가위바위보 문제?"
      ],
      "execution_count": null,
      "outputs": []
    },
    {
      "cell_type": "code",
      "metadata": {
        "colab": {
          "base_uri": "https://localhost:8080/"
        },
        "id": "9W1dvE7RnP_Q",
        "outputId": "441b13d3-18e8-4fea-d7f7-d0539b1c592d"
      },
      "source": [
        "#연습문제 \n",
        "#어떠한 string을 받으면 일정한 단위로 끊어서 화면에 출력하는 함수를 짜보자. 끊는 단위는 따로 정하지 않으면 2로 설정 해 보자.\n",
        "def func(string, unit=2):\n",
        "  i=0\n",
        "  while i<len(string):\n",
        "    print(string[i:i+unit])\n",
        "    i+=unit\n",
        "func('테스트를 위한 문장입니다.')\n",
        "func('테스트를 위한 문장입니다',4)"
      ],
      "execution_count": null,
      "outputs": [
        {
          "output_type": "stream",
          "text": [
            "테스\n",
            "트를\n",
            " 위\n",
            "한 \n",
            "문장\n",
            "입니\n",
            "다.\n",
            "테스트를\n",
            " 위한 \n",
            "문장입니\n",
            "다\n"
          ],
          "name": "stdout"
        }
      ]
    },
    {
      "cell_type": "code",
      "metadata": {
        "id": "2gKrxELVreKe"
      },
      "source": [
        " def add_all(*input):\n",
        "   s=0\n",
        "   for i in range(len(input)):\n",
        "     s+= input[i]\n",
        "    return s\n",
        "\n",
        "  def add_all1(*input):\n",
        "    return sum(inputs)\n",
        "\n",
        "  def add_all2(*input): #list는 받아들임\n",
        "  #tuple은 안됨\n",
        "    s=0\n",
        "    for i in input:\n",
        "      for j in i\n",
        "      s+=j \n",
        "    return s\n",
        "def add_all3(*input)"
      ],
      "execution_count": null,
      "outputs": []
    },
    {
      "cell_type": "code",
      "metadata": {
        "colab": {
          "base_uri": "https://localhost:8080/",
          "height": 136
        },
        "id": "wB2YzYFL8a-6",
        "outputId": "388c7141-c0a0-40cd-d57a-ac3fe394e95e"
      },
      "source": [
        "#pop quiz\n",
        "#문제를 먼저 풀어보자. 여기는 동네 유명한 빵집이다. 사람들에게 먼저 온 순서대로 번호표를 나눠주려고 한다. 번호표를 나누어주는 함수를 작성해보자.\n",
        "#함수는 사람 이름으로 되어있는 리스트를 받아서 '대기번호 x번: 사람이름 을 출력하고, 번호표, 사람이름을 원소로 이루어진 리스트를 반환한다.\n",
        "\n",
        "# people=['펭수','뽀로로','뚝딱이','텔레토비']\n",
        "\n",
        "# def func1(*args):\n",
        "#   for i in range(len(args)):\n",
        "#     print(f'대기번호 {i+1}번: {people[i]}')\n",
        "#   return\n",
        "\n",
        "# lines=func1(people)\n",
        "# people=['펭수','뽀로로','뚝딱이','텔레토비'] #? 안됨\n",
        "\n",
        "\n",
        "# def func1(line):\n",
        "#   new_lines=[]\n",
        "#   i=1\n",
        "#   for x in line:\n",
        "#     print(f'대기번호 {i}번 : {x}')\n",
        "#     new_lines.append((i,x))\n",
        "#     i+=1\n",
        "#   return new_lines\n",
        "# lines=func1(people)\n"
      ],
      "execution_count": null,
      "outputs": [
        {
          "output_type": "error",
          "ename": "SyntaxError",
          "evalue": "ignored",
          "traceback": [
            "\u001b[0;36m  File \u001b[0;32m\"<ipython-input-105-48eb9b31b9b6>\"\u001b[0;36m, line \u001b[0;32m7\u001b[0m\n\u001b[0;31m    def func1(list[*args]):\u001b[0m\n\u001b[0m                  ^\u001b[0m\n\u001b[0;31mSyntaxError\u001b[0m\u001b[0;31m:\u001b[0m invalid syntax\n"
          ]
        }
      ]
    },
    {
      "cell_type": "code",
      "metadata": {
        "id": "F6dy4BN_GkfP"
      },
      "source": [
        "#1. for문\n",
        "#구구단 2단을 list comprehension을 이용하여 구현하고 리스트를 화면에 출력해보자.\n"
      ],
      "execution_count": null,
      "outputs": []
    },
    {
      "cell_type": "code",
      "metadata": {
        "colab": {
          "base_uri": "https://localhost:8080/"
        },
        "id": "NiUT3Yx7Fvxn",
        "outputId": "db6355f6-14ac-4ba8-c94c-9d89d576a167"
      },
      "source": [
        "#233 Quiz2\n",
        "#내가 짠 것\n",
        "a=\"코로나 바이러스를 예방하기 위해 사회적 거리두기를 실천합시다. 마스크를 끼고 손씻기를 생활화합시다\"\n",
        "# c=a.split(' ')\n",
        "# b=[]\n",
        "# for i in range(len(c)):\n",
        "#   b.append(len(c[i]))\n",
        "\n",
        "# d=[]\n",
        "# for i in zip(b,c):\n",
        "#   d.append(i)\n",
        "\n",
        "# d\n",
        "\n",
        "len_sent=[len(s) for s in a.split()]\n",
        "len_sent"
      ],
      "execution_count": null,
      "outputs": [
        {
          "output_type": "execute_result",
          "data": {
            "text/plain": [
              "[3, 5, 4, 2, 3, 5, 6, 4, 2, 4, 6]"
            ]
          },
          "metadata": {
            "tags": []
          },
          "execution_count": 145
        }
      ]
    },
    {
      "cell_type": "code",
      "metadata": {
        "colab": {
          "base_uri": "https://localhost:8080/"
        },
        "id": "cHEK2oerGi4L",
        "outputId": "ea5d91ba-51f8-49db-a42f-cb27bf6ba086"
      },
      "source": [
        "lc_2 = [x for x in range(10,21) if x%2==0]\n",
        "lc_2"
      ],
      "execution_count": null,
      "outputs": [
        {
          "output_type": "execute_result",
          "data": {
            "text/plain": [
              "[10, 12, 14, 16, 18, 20]"
            ]
          },
          "metadata": {
            "tags": []
          },
          "execution_count": 112
        }
      ]
    },
    {
      "cell_type": "code",
      "metadata": {
        "colab": {
          "base_uri": "https://localhost:8080/"
        },
        "id": "DYtIvSR8HqQy",
        "outputId": "eb986aeb-9e2d-44f5-f333-f9c84f32c635"
      },
      "source": [
        "#236-1\n",
        "lc_3=[pow(x,2) for x in range(1,11) if pow(x,2)<=50]\n",
        "lc_3"
      ],
      "execution_count": null,
      "outputs": [
        {
          "output_type": "execute_result",
          "data": {
            "text/plain": [
              "[1, 4, 9, 16, 25, 36, 49]"
            ]
          },
          "metadata": {
            "tags": []
          },
          "execution_count": 116
        }
      ]
    },
    {
      "cell_type": "code",
      "metadata": {
        "colab": {
          "base_uri": "https://localhost:8080/"
        },
        "id": "zqdjCjq_IKu6",
        "outputId": "e11821d1-e709-450f-f6a7-a4705470e9e4"
      },
      "source": [
        "#2. \n",
        "#다음의 문장을 분석해보자.\n",
        "a=\"코로나 바이러스를 예방하기 위해 사회적 거리두기를 실천합시다. 마스크를 끼고 손씻기를 생활화합시다\"\n",
        "b=[]\n",
        "c=a.split(' ')\n",
        "for i in range(len(c)):\n",
        "  if len(c[i])<5:\n",
        "    b.append(c[i])\n",
        "b"
      ],
      "execution_count": null,
      "outputs": [
        {
          "output_type": "execute_result",
          "data": {
            "text/plain": [
              "['코로나', '예방하기', '위해', '사회적', '마스크를', '끼고', '손씻기를']"
            ]
          },
          "metadata": {
            "tags": []
          },
          "execution_count": 121
        }
      ]
    },
    {
      "cell_type": "code",
      "metadata": {
        "colab": {
          "base_uri": "https://localhost:8080/"
        },
        "id": "0hLXoK9JKoQP",
        "outputId": "6ef97081-ef38-4913-ddc8-2e3b2bda98bf"
      },
      "source": [
        "#238 -1\n",
        "#1. 40이하의 숫자는 5를 더하고, 40 초과의 숫자는 41로 바꾸어 리스트로 저장하고 리스트를 출력하여라\n",
        "c=[]\n",
        "for i in range(1,51):\n",
        "  if i <=40:\n",
        "    c.append(i+5)\n",
        "  else:\n",
        "    c.append(i)\n",
        "c"
      ],
      "execution_count": null,
      "outputs": [
        {
          "output_type": "execute_result",
          "data": {
            "text/plain": [
              "[6,\n",
              " 7,\n",
              " 8,\n",
              " 9,\n",
              " 10,\n",
              " 11,\n",
              " 12,\n",
              " 13,\n",
              " 14,\n",
              " 15,\n",
              " 16,\n",
              " 17,\n",
              " 18,\n",
              " 19,\n",
              " 20,\n",
              " 21,\n",
              " 22,\n",
              " 23,\n",
              " 24,\n",
              " 25,\n",
              " 26,\n",
              " 27,\n",
              " 28,\n",
              " 29,\n",
              " 30,\n",
              " 31,\n",
              " 32,\n",
              " 33,\n",
              " 34,\n",
              " 35,\n",
              " 36,\n",
              " 37,\n",
              " 38,\n",
              " 39,\n",
              " 40,\n",
              " 41,\n",
              " 42,\n",
              " 43,\n",
              " 44,\n",
              " 45,\n",
              " 41,\n",
              " 42,\n",
              " 43,\n",
              " 44,\n",
              " 45,\n",
              " 46,\n",
              " 47,\n",
              " 48,\n",
              " 49,\n",
              " 50]"
            ]
          },
          "metadata": {
            "tags": []
          },
          "execution_count": 137
        }
      ]
    },
    {
      "cell_type": "code",
      "metadata": {
        "colab": {
          "base_uri": "https://localhost:8080/"
        },
        "id": "GBpdcSWoLdqN",
        "outputId": "207ed4f4-1d31-411a-964d-7efc2f81c5cf"
      },
      "source": [
        "#2. 컷트라인이 60점일때, 사람이름과 통과여부를 리스트로 담아서 출력하라. 이름과 통과여부는 튜플로 묶여있는 자료이다.\n",
        "students={'보라돌이':61,\n",
        "          '뚜비': 35,\n",
        "          '나나': 78,\n",
        "          '뽀': 88}\n",
        "\n",
        "result=[(name,'통과') if score>=60 else (name,'실패') for name,score in students.items()]\n",
        "result"
      ],
      "execution_count": null,
      "outputs": [
        {
          "output_type": "execute_result",
          "data": {
            "text/plain": [
              "[('보라돌이', '통과'), ('뚜비', '실패'), ('나나', '통과'), ('뽀', '통과')]"
            ]
          },
          "metadata": {
            "tags": []
          },
          "execution_count": 148
        }
      ]
    },
    {
      "cell_type": "code",
      "metadata": {
        "id": "UTXob-mrNI9a"
      },
      "source": [
        "#for if 문\n",
        "#quiz1 238\n",
        "lc_5 =[12,67,32,48,19,57,29,49]\n",
        "#저장 할 값 for x in range(a if x<40 else ?)\n",
        "#list comprehension 특징 if하나는 허용하지만 조건문 두개앞에서만 되는 특징이 있음\n",
        "lc_6=[x+2 if x<=40 else 41 for x in lc_5]"
      ],
      "execution_count": null,
      "outputs": []
    },
    {
      "cell_type": "code",
      "metadata": {
        "colab": {
          "base_uri": "https://localhost:8080/"
        },
        "id": "lhongUEJpnJY",
        "outputId": "4ec2ab20-cc27-4ed2-eee3-83cbbc95a81f"
      },
      "source": [
        "#numpy 로또 번호 생성기\n",
        "import numpy as np\n",
        "\n",
        "def make_lotto(count):\n",
        "  for i in range(count):\n",
        "    lotto_num=[]\n",
        "    lotto_num=np.random.choice(range(1,46),6,replace=False)\n",
        "    lotto_num.sort()\n",
        "    print(f'{i+1}. 로또번호: {lotto_num}')\n",
        "\n",
        "make_lotto(4)"
      ],
      "execution_count": null,
      "outputs": [
        {
          "output_type": "stream",
          "text": [
            "1. 로또번호: [ 6 19 20 28 31 34]\n",
            "2. 로또번호: [ 6 12 19 20 24 25]\n",
            "3. 로또번호: [ 1  6 16 18 28 29]\n",
            "4. 로또번호: [ 7 17 23 36 38 40]\n"
          ],
          "name": "stdout"
        }
      ]
    },
    {
      "cell_type": "code",
      "metadata": {
        "colab": {
          "base_uri": "https://localhost:8080/",
          "height": 300
        },
        "id": "nRPWVo0as0Uw",
        "outputId": "9d8d286e-2d98-4a9f-ac6b-36c6869e876b"
      },
      "source": [
        ""
      ],
      "execution_count": null,
      "outputs": [
        {
          "output_type": "error",
          "ename": "AttributeError",
          "evalue": "ignored",
          "traceback": [
            "\u001b[0;31m---------------------------------------------------------------------------\u001b[0m",
            "\u001b[0;31mAttributeError\u001b[0m                            Traceback (most recent call last)",
            "\u001b[0;32m<ipython-input-160-cd47063e0c50>\u001b[0m in \u001b[0;36m<module>\u001b[0;34m()\u001b[0m\n\u001b[0;32m----> 1\u001b[0;31m \u001b[0marr1\u001b[0m\u001b[0;34m=\u001b[0m\u001b[0mnp\u001b[0m\u001b[0;34m.\u001b[0m\u001b[0marary\u001b[0m\u001b[0;34m(\u001b[0m\u001b[0;36m1\u001b[0m\u001b[0;34m,\u001b[0m\u001b[0;36m20\u001b[0m\u001b[0;34m)\u001b[0m\u001b[0;34m\u001b[0m\u001b[0;34m\u001b[0m\u001b[0m\n\u001b[0m",
            "\u001b[0;32m/usr/local/lib/python3.7/dist-packages/numpy/__init__.py\u001b[0m in \u001b[0;36m__getattr__\u001b[0;34m(attr)\u001b[0m\n\u001b[1;32m    213\u001b[0m             \u001b[0;32melse\u001b[0m\u001b[0;34m:\u001b[0m\u001b[0;34m\u001b[0m\u001b[0;34m\u001b[0m\u001b[0m\n\u001b[1;32m    214\u001b[0m                 raise AttributeError(\"module {!r} has no attribute \"\n\u001b[0;32m--> 215\u001b[0;31m                                      \"{!r}\".format(__name__, attr))\n\u001b[0m\u001b[1;32m    216\u001b[0m \u001b[0;34m\u001b[0m\u001b[0m\n\u001b[1;32m    217\u001b[0m         \u001b[0;32mdef\u001b[0m \u001b[0m__dir__\u001b[0m\u001b[0;34m(\u001b[0m\u001b[0;34m)\u001b[0m\u001b[0;34m:\u001b[0m\u001b[0;34m\u001b[0m\u001b[0;34m\u001b[0m\u001b[0m\n",
            "\u001b[0;31mAttributeError\u001b[0m: module 'numpy' has no attribute 'arary'"
          ]
        }
      ]
    }
  ]
}