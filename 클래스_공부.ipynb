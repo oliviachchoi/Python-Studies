{
  "nbformat": 4,
  "nbformat_minor": 0,
  "metadata": {
    "colab": {
      "name": "클래스 공부.ipynb",
      "provenance": [],
      "collapsed_sections": [],
      "authorship_tag": "ABX9TyOIs/fVpoozFQHxAEhgateu",
      "include_colab_link": true
    },
    "kernelspec": {
      "name": "python3",
      "display_name": "Python 3"
    },
    "language_info": {
      "name": "python"
    }
  },
  "cells": [
    {
      "cell_type": "markdown",
      "metadata": {
        "id": "view-in-github",
        "colab_type": "text"
      },
      "source": [
        "<a href=\"https://colab.research.google.com/github/oliviachchoi/Python-Studies/blob/master/%ED%81%B4%EB%9E%98%EC%8A%A4_%EA%B3%B5%EB%B6%80.ipynb\" target=\"_parent\"><img src=\"https://colab.research.google.com/assets/colab-badge.svg\" alt=\"Open In Colab\"/></a>"
      ]
    },
    {
      "cell_type": "markdown",
      "metadata": {
        "id": "WQrvPxb_4sXU"
      },
      "source": [
        "https://wikidocs.net/28\n",
        "\n",
        "에 있는 코드 & 개념 위주로 공부함"
      ]
    },
    {
      "cell_type": "code",
      "metadata": {
        "colab": {
          "base_uri": "https://localhost:8080/"
        },
        "id": "0V9SYHjr4lyF",
        "outputId": "7bdf6822-ab14-4423-fd11-222534cece18"
      },
      "source": [
        "result= 0\n",
        "\n",
        "def add(num):\n",
        "  global result #global => 전역함수 지정\n",
        "  result+= num\n",
        "  return result\n",
        "\n",
        "print(add(3))\n",
        "print(add(4))"
      ],
      "execution_count": 1,
      "outputs": [
        {
          "output_type": "stream",
          "text": [
            "3\n",
            "7\n"
          ],
          "name": "stdout"
        }
      ]
    },
    {
      "cell_type": "code",
      "metadata": {
        "colab": {
          "base_uri": "https://localhost:8080/"
        },
        "id": "3xgfYrno5IrC",
        "outputId": "8ef7fa19-5069-4b22-e103-a94b97e09ebe"
      },
      "source": [
        "#https://rfriend.tistory.com/367\n",
        "#전역변수 지역변수 => global vs local variable\n",
        "\n",
        "def var_scope():\n",
        "  s='python is easy' #local\n",
        "  print(s)\n",
        "\n",
        "s='python is not easy'\n",
        "\n",
        "var_scope() #local variable\n",
        "\n",
        "print(s)"
      ],
      "execution_count": 2,
      "outputs": [
        {
          "output_type": "stream",
          "text": [
            "python is easy\n",
            "python is not easy\n"
          ],
          "name": "stdout"
        }
      ]
    },
    {
      "cell_type": "code",
      "metadata": {
        "colab": {
          "base_uri": "https://localhost:8080/"
        },
        "id": "rxaDPNeu5dJz",
        "outputId": "c77076ca-108c-4302-8df6-1c96a45ecb30"
      },
      "source": [
        "result1=0\n",
        "result2=0\n",
        "\n",
        "def add1(num):\n",
        "  global result1\n",
        "  result1+=num\n",
        "  return result1\n",
        "\n",
        "def add2(num):\n",
        "  global result2\n",
        "  result2+=num\n",
        "  return result2\n",
        "\n",
        "\n",
        "print(add1(3))\n",
        "print(add1(4))\n",
        "print(add2(2))\n",
        "print(add2(8))\n",
        "\n",
        "#위에서는 계산기 2개로 했지만, 계산기가 점점 늘어지면 힘들 것 같아서 class로 계산"
      ],
      "execution_count": 4,
      "outputs": [
        {
          "output_type": "stream",
          "text": [
            "3\n",
            "7\n",
            "2\n",
            "10\n"
          ],
          "name": "stdout"
        }
      ]
    }
  ]
}