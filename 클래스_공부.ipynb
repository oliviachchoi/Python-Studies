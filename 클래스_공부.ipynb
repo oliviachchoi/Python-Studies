{
  "nbformat": 4,
  "nbformat_minor": 0,
  "metadata": {
    "colab": {
      "name": "클래스 공부.ipynb",
      "provenance": [],
      "collapsed_sections": [],
      "authorship_tag": "ABX9TyNhxO0dpRgBqDDmAuyRLdo+",
      "include_colab_link": true
    },
    "kernelspec": {
      "name": "python3",
      "display_name": "Python 3"
    },
    "language_info": {
      "name": "python"
    }
  },
  "cells": [
    {
      "cell_type": "markdown",
      "metadata": {
        "id": "view-in-github",
        "colab_type": "text"
      },
      "source": [
        "<a href=\"https://colab.research.google.com/github/oliviachchoi/Python-Studies/blob/master/%ED%81%B4%EB%9E%98%EC%8A%A4_%EA%B3%B5%EB%B6%80.ipynb\" target=\"_parent\"><img src=\"https://colab.research.google.com/assets/colab-badge.svg\" alt=\"Open In Colab\"/></a>"
      ]
    },
    {
      "cell_type": "markdown",
      "metadata": {
        "id": "WQrvPxb_4sXU"
      },
      "source": [
        "https://wikidocs.net/28\n",
        "\n",
        "에 있는 코드 & 개념 위주로 공부함"
      ]
    },
    {
      "cell_type": "code",
      "metadata": {
        "colab": {
          "base_uri": "https://localhost:8080/"
        },
        "id": "0V9SYHjr4lyF",
        "outputId": "ceffc97e-010c-4474-c837-cfe2d6a011db"
      },
      "source": [
        "result= 0\n",
        "\n",
        "def add(num):\n",
        "  global result #global => 전역함수 지정\n",
        "  result+= num\n",
        "  return result\n",
        "\n",
        "print(add(3))\n",
        "print(add(4))"
      ],
      "execution_count": 1,
      "outputs": [
        {
          "output_type": "stream",
          "text": [
            "3\n",
            "7\n"
          ],
          "name": "stdout"
        }
      ]
    },
    {
      "cell_type": "code",
      "metadata": {
        "colab": {
          "base_uri": "https://localhost:8080/"
        },
        "id": "3xgfYrno5IrC",
        "outputId": "54c9ef7c-785b-49b9-f479-9e26a58b9f0a"
      },
      "source": [
        "#https://rfriend.tistory.com/367\n",
        "#전역변수 지역변수 => global vs local variable\n",
        "\n",
        "def var_scope():\n",
        "  s='python is easy' #local\n",
        "  print(s)\n",
        "\n",
        "s='python is not easy'\n",
        "\n",
        "var_scope() #local variable\n",
        "\n",
        "print(s)"
      ],
      "execution_count": 2,
      "outputs": [
        {
          "output_type": "stream",
          "text": [
            "python is easy\n",
            "python is not easy\n"
          ],
          "name": "stdout"
        }
      ]
    },
    {
      "cell_type": "code",
      "metadata": {
        "colab": {
          "base_uri": "https://localhost:8080/"
        },
        "id": "rxaDPNeu5dJz",
        "outputId": "274456d1-f1dc-492f-d556-e5b4651ff083"
      },
      "source": [
        "result1=0\n",
        "result2=0\n",
        "\n",
        "def add1(num):\n",
        "  global result1\n",
        "  result1+=num\n",
        "  return result1\n",
        "\n",
        "def add2(num):\n",
        "  global result2\n",
        "  result2+=num\n",
        "  return result2\n",
        "\n",
        "\n",
        "print(add1(3))\n",
        "print(add1(4))\n",
        "print(add2(2))\n",
        "print(add2(8))\n",
        "\n",
        "#위에서는 계산기 2개로 했지만, 계산기가 점점 늘어지면 힘들 것 같아서 class로 계산"
      ],
      "execution_count": 3,
      "outputs": [
        {
          "output_type": "stream",
          "text": [
            "3\n",
            "7\n",
            "2\n",
            "10\n"
          ],
          "name": "stdout"
        }
      ]
    },
    {
      "cell_type": "code",
      "metadata": {
        "colab": {
          "base_uri": "https://localhost:8080/"
        },
        "id": "nsFmje4nHH3Z",
        "outputId": "a5658855-5644-41c0-c060-060c6463aab4"
      },
      "source": [
        "class Calculator:\n",
        "  def __init__(self):\n",
        "    self.result=0\n",
        "  \n",
        "  def add(self, num):\n",
        "    self.result += num\n",
        "    return self.result\n",
        "\n",
        "cal1=Calculator()\n",
        "cal2=Calculator()\n",
        "\n",
        "print(cal1.add(3))\n",
        "print(cal1.add(4))\n",
        "print(cal2.add(3))\n",
        "print(cal2.add(7))\n",
        "\n",
        "#cal1, cal2 => 각 객체. Class만 만들어 두기만 하면 계산 수가 늘어나더라도 새 객체 생성만\n",
        "#하면 되기 때문에 간편하다."
      ],
      "execution_count": 4,
      "outputs": [
        {
          "output_type": "stream",
          "text": [
            "3\n",
            "7\n",
            "3\n",
            "10\n"
          ],
          "name": "stdout"
        }
      ]
    },
    {
      "cell_type": "code",
      "metadata": {
        "colab": {
          "base_uri": "https://localhost:8080/"
        },
        "id": "K9wMX73zH7dj",
        "outputId": "557835c2-778d-440c-a994-1501d4d9612a"
      },
      "source": [
        "#사칙연산 클래스 만들기\n",
        "class FourCal:\n",
        "  pass\n",
        "\n",
        "a=FourCal()\n",
        "type(a) #a는 FourCal의 instance임을 알 수 있다."
      ],
      "execution_count": 6,
      "outputs": [
        {
          "output_type": "execute_result",
          "data": {
            "text/plain": [
              "__main__.FourCal"
            ]
          },
          "metadata": {
            "tags": []
          },
          "execution_count": 6
        }
      ]
    },
    {
      "cell_type": "code",
      "metadata": {
        "id": "PITa86FYKRn4"
      },
      "source": [
        "class FourCal:\n",
        "  def setdata(self, first, second):\n",
        "    self.first = first\n",
        "    self.second= second\n",
        "\n",
        "a=FourCal()\n",
        "#객체를 통해 method를 호출하려면 (.)도트 연산자를 사용 해야함.\n",
        "a.setdata(4,2)"
      ],
      "execution_count": 7,
      "outputs": []
    },
    {
      "cell_type": "code",
      "metadata": {
        "colab": {
          "base_uri": "https://localhost:8080/"
        },
        "id": "fIc1JVxBKluu",
        "outputId": "7fd35d3f-14af-4e02-f699-f3e006a123b3"
      },
      "source": [
        "print(a.first)\n",
        "print(a.second)"
      ],
      "execution_count": 8,
      "outputs": [
        {
          "output_type": "stream",
          "text": [
            "4\n",
            "2\n"
          ],
          "name": "stdout"
        }
      ]
    },
    {
      "cell_type": "code",
      "metadata": {
        "id": "Byy7C4rdLKYF"
      },
      "source": [
        "a=FourCal()\n",
        "b=FourCal()\n"
      ],
      "execution_count": 9,
      "outputs": []
    },
    {
      "cell_type": "code",
      "metadata": {
        "colab": {
          "base_uri": "https://localhost:8080/"
        },
        "id": "QC8sKcMwLM3D",
        "outputId": "ed68a985-6a3e-47c6-bd38-28c58bd6852f"
      },
      "source": [
        "a.setdata(4,2)\n",
        "print(a.first)"
      ],
      "execution_count": 10,
      "outputs": [
        {
          "output_type": "stream",
          "text": [
            "4\n"
          ],
          "name": "stdout"
        }
      ]
    },
    {
      "cell_type": "code",
      "metadata": {
        "colab": {
          "base_uri": "https://localhost:8080/"
        },
        "id": "jTFEuV-GLPYr",
        "outputId": "16c0506a-ab4c-4850-c307-6441d63ba386"
      },
      "source": [
        "b.setdata(3,7)\n",
        "print(b.first)\n",
        "\n",
        "#a객체의 first와 b 객체의 first는 다름"
      ],
      "execution_count": 11,
      "outputs": [
        {
          "output_type": "stream",
          "text": [
            "3\n"
          ],
          "name": "stdout"
        }
      ]
    },
    {
      "cell_type": "code",
      "metadata": {
        "colab": {
          "base_uri": "https://localhost:8080/"
        },
        "id": "T5eIzK3XLXY2",
        "outputId": "c5886f1c-7e00-49c3-cd5a-672d456c98ef"
      },
      "source": [
        "a=FourCal()\n",
        "b=FourCal()\n",
        "a.setdata(4,2)\n",
        "b.setdata(5,6)\n",
        "print(id(a.first)) #a의 주소값\n",
        "print(id(b.first)) #b의 주소값\n",
        "#a객체의 first주소와 b객체의 first주소값이 서로 다름 => 각각 다른 곳에 저장 된다"
      ],
      "execution_count": 16,
      "outputs": [
        {
          "output_type": "stream",
          "text": [
            "94270919498336\n",
            "94270919498368\n"
          ],
          "name": "stdout"
        }
      ]
    },
    {
      "cell_type": "code",
      "metadata": {
        "colab": {
          "base_uri": "https://localhost:8080/"
        },
        "id": "UvofddNWMEIA",
        "outputId": "e6d75feb-5c53-4752-94c5-e0a8503094c4"
      },
      "source": [
        "class FourCal:\n",
        "  def setdata(self, first,second):\n",
        "    self.first= first\n",
        "    self.second=second\n",
        "  def add(self):\n",
        "    result= self.first+ self.second\n",
        "    return result\n",
        "  def minus(self):\n",
        "    result= self.first- self.second\n",
        "    return result\n",
        "  def multiply(self):\n",
        "    result= self.first * self.second\n",
        "    return result\n",
        "  def division(self):\n",
        "    result= self.first/self.second\n",
        "    return result\n",
        "\n",
        "a=FourCal()\n",
        "a.setdata(4,2)\n",
        "print(a.add())\n",
        "b.setdata(10,5)\n",
        "print(a.division())"
      ],
      "execution_count": 26,
      "outputs": [
        {
          "output_type": "stream",
          "text": [
            "6\n",
            "2.0\n"
          ],
          "name": "stdout"
        }
      ]
    },
    {
      "cell_type": "code",
      "metadata": {
        "id": "CyWGIKToPoKS"
      },
      "source": [
        "#생성자(constructor) : 객체가 생성될 때 자동으로 호출되 메서드를 의미\n",
        "class FourCal():\n",
        "  def __init__(self, first,second):\n",
        "    self.first=first\n",
        "    self.second=second\n",
        "  def setdata(self, first,second):\n",
        "    self.first=first\n",
        "    self.secon=second\n",
        "  def add(self):\n",
        "    result= self.first+ self.second\n",
        "    return result\n",
        "  def minus(self):\n",
        "    result= self.first- self.second\n",
        "    return result\n",
        "  def multiply(self):\n",
        "    result= self.first * self.second\n",
        "    return result\n",
        "  def division(self):\n",
        "    result= self.first/self.second\n",
        "    return result\n",
        "\n",
        "\n",
        "#init method: setdata메서드와 이름만 다르고 다른건 다 동일. but 생성자로 인식"
      ],
      "execution_count": 28,
      "outputs": []
    },
    {
      "cell_type": "code",
      "metadata": {
        "id": "kUphPEuhQejn"
      },
      "source": [
        "a=FourCal(4,2)"
      ],
      "execution_count": 30,
      "outputs": []
    },
    {
      "cell_type": "code",
      "metadata": {
        "colab": {
          "base_uri": "https://localhost:8080/"
        },
        "id": "NQ-UiRZrQmDL",
        "outputId": "f088f42f-bd3a-4f9a-bd20-45945a2c6752"
      },
      "source": [
        "print(a.first)\n",
        "print(a.second)"
      ],
      "execution_count": 32,
      "outputs": [
        {
          "output_type": "stream",
          "text": [
            "4\n",
            "2\n"
          ],
          "name": "stdout"
        }
      ]
    },
    {
      "cell_type": "code",
      "metadata": {
        "colab": {
          "base_uri": "https://localhost:8080/"
        },
        "id": "7tbCgFkLQqJE",
        "outputId": "c52cb412-7b9f-486a-db7a-199bcbed4c37"
      },
      "source": [
        "#클래스의 상속(inheritance)\n",
        "#상속은 클래스처럼 기존 크래스는 놔두고 기능을 확장 할 때 사용\n",
        "class MoreFourCal(FourCal):\n",
        "  def pow(self):\n",
        "    result = self.first ** self.second\n",
        "    return result\n",
        "a=MoreFourCal(4,2)\n",
        "a.pow()"
      ],
      "execution_count": 33,
      "outputs": [
        {
          "output_type": "execute_result",
          "data": {
            "text/plain": [
              "16"
            ]
          },
          "metadata": {
            "tags": []
          },
          "execution_count": 33
        }
      ]
    },
    {
      "cell_type": "code",
      "metadata": {
        "colab": {
          "base_uri": "https://localhost:8080/",
          "height": 330
        },
        "id": "IENFvBvsRU8k",
        "outputId": "e6754944-ba0b-4c70-f578-62a17fed9875"
      },
      "source": [
        "#Method Overriding\n",
        "a= FourCal(4,0)\n",
        "a.division() #0으로 나눌 때 오류가 아닌 0을 return값으로 받고 싶다면?"
      ],
      "execution_count": 35,
      "outputs": [
        {
          "output_type": "error",
          "ename": "ZeroDivisionError",
          "evalue": "ignored",
          "traceback": [
            "\u001b[0;31m---------------------------------------------------------------------------\u001b[0m",
            "\u001b[0;31mZeroDivisionError\u001b[0m                         Traceback (most recent call last)",
            "\u001b[0;32m<ipython-input-35-b541987eb9f4>\u001b[0m in \u001b[0;36m<module>\u001b[0;34m()\u001b[0m\n\u001b[1;32m      1\u001b[0m \u001b[0;31m#Method Overriding\u001b[0m\u001b[0;34m\u001b[0m\u001b[0;34m\u001b[0m\u001b[0;34m\u001b[0m\u001b[0m\n\u001b[1;32m      2\u001b[0m \u001b[0ma\u001b[0m\u001b[0;34m=\u001b[0m \u001b[0mFourCal\u001b[0m\u001b[0;34m(\u001b[0m\u001b[0;36m4\u001b[0m\u001b[0;34m,\u001b[0m\u001b[0;36m0\u001b[0m\u001b[0;34m)\u001b[0m\u001b[0;34m\u001b[0m\u001b[0;34m\u001b[0m\u001b[0m\n\u001b[0;32m----> 3\u001b[0;31m \u001b[0ma\u001b[0m\u001b[0;34m.\u001b[0m\u001b[0mdivision\u001b[0m\u001b[0;34m(\u001b[0m\u001b[0;34m)\u001b[0m\u001b[0;34m\u001b[0m\u001b[0;34m\u001b[0m\u001b[0m\n\u001b[0m",
            "\u001b[0;32m<ipython-input-28-c4489feb1ff4>\u001b[0m in \u001b[0;36mdivision\u001b[0;34m(self)\u001b[0m\n\u001b[1;32m     17\u001b[0m     \u001b[0;32mreturn\u001b[0m \u001b[0mresult\u001b[0m\u001b[0;34m\u001b[0m\u001b[0;34m\u001b[0m\u001b[0m\n\u001b[1;32m     18\u001b[0m   \u001b[0;32mdef\u001b[0m \u001b[0mdivision\u001b[0m\u001b[0;34m(\u001b[0m\u001b[0mself\u001b[0m\u001b[0;34m)\u001b[0m\u001b[0;34m:\u001b[0m\u001b[0;34m\u001b[0m\u001b[0;34m\u001b[0m\u001b[0m\n\u001b[0;32m---> 19\u001b[0;31m     \u001b[0mresult\u001b[0m\u001b[0;34m=\u001b[0m \u001b[0mself\u001b[0m\u001b[0;34m.\u001b[0m\u001b[0mfirst\u001b[0m\u001b[0;34m/\u001b[0m\u001b[0mself\u001b[0m\u001b[0;34m.\u001b[0m\u001b[0msecond\u001b[0m\u001b[0;34m\u001b[0m\u001b[0;34m\u001b[0m\u001b[0m\n\u001b[0m\u001b[1;32m     20\u001b[0m     \u001b[0;32mreturn\u001b[0m \u001b[0mresult\u001b[0m\u001b[0;34m\u001b[0m\u001b[0;34m\u001b[0m\u001b[0m\n\u001b[1;32m     21\u001b[0m \u001b[0;34m\u001b[0m\u001b[0m\n",
            "\u001b[0;31mZeroDivisionError\u001b[0m: division by zero"
          ]
        }
      ]
    },
    {
      "cell_type": "code",
      "metadata": {
        "id": "OKb_XiR2Rg0P"
      },
      "source": [
        "#위의 division과 같은 호출명으로 다시 만드는 것을 method overriding이라고 함\n",
        "class SafeFourCal(FourCal):\n",
        "  def division(self):\n",
        "    if self.second==0:\n",
        "      return 0\n",
        "    else:\n",
        "      return self.first/self.second"
      ],
      "execution_count": 36,
      "outputs": []
    },
    {
      "cell_type": "code",
      "metadata": {
        "colab": {
          "base_uri": "https://localhost:8080/"
        },
        "id": "TQYkuXQSRyf0",
        "outputId": "3b080bc9-ca37-426c-a11c-b9c5d152c35f"
      },
      "source": [
        "a=SafeFourCal(4,0)\n",
        "a.division()"
      ],
      "execution_count": 37,
      "outputs": [
        {
          "output_type": "execute_result",
          "data": {
            "text/plain": [
              "0"
            ]
          },
          "metadata": {
            "tags": []
          },
          "execution_count": 37
        }
      ]
    }
  ]
}